{
 "cells": [
  {
   "cell_type": "code",
   "execution_count": 37,
   "metadata": {},
   "outputs": [],
   "source": [
    "#Import basic library for EDA\n",
    "import pandas as pd\n",
    "import numpy as np\n",
    "import seaborn as sns\n",
    "import matplotlib.pyplot as plt\n",
    "import warnings\n",
    "warnings.filterwarnings('ignore')"
   ]
  },
  {
   "cell_type": "code",
   "execution_count": 38,
   "metadata": {},
   "outputs": [
    {
     "data": {
      "text/html": [
       "<div>\n",
       "<style scoped>\n",
       "    .dataframe tbody tr th:only-of-type {\n",
       "        vertical-align: middle;\n",
       "    }\n",
       "\n",
       "    .dataframe tbody tr th {\n",
       "        vertical-align: top;\n",
       "    }\n",
       "\n",
       "    .dataframe thead th {\n",
       "        text-align: right;\n",
       "    }\n",
       "</style>\n",
       "<table border=\"1\" class=\"dataframe\">\n",
       "  <thead>\n",
       "    <tr style=\"text-align: right;\">\n",
       "      <th></th>\n",
       "      <th>Unnamed: 0</th>\n",
       "      <th>Date</th>\n",
       "      <th>AveragePrice</th>\n",
       "      <th>Total Volume</th>\n",
       "      <th>4046</th>\n",
       "      <th>4225</th>\n",
       "      <th>4770</th>\n",
       "      <th>Total Bags</th>\n",
       "      <th>Small Bags</th>\n",
       "      <th>Large Bags</th>\n",
       "      <th>XLarge Bags</th>\n",
       "      <th>type</th>\n",
       "      <th>year</th>\n",
       "      <th>region</th>\n",
       "    </tr>\n",
       "  </thead>\n",
       "  <tbody>\n",
       "    <tr>\n",
       "      <th>0</th>\n",
       "      <td>0</td>\n",
       "      <td>2015-12-27</td>\n",
       "      <td>1.33</td>\n",
       "      <td>64236.62</td>\n",
       "      <td>1036.74</td>\n",
       "      <td>54454.85</td>\n",
       "      <td>48.16</td>\n",
       "      <td>8696.87</td>\n",
       "      <td>8603.62</td>\n",
       "      <td>93.25</td>\n",
       "      <td>0.0</td>\n",
       "      <td>conventional</td>\n",
       "      <td>2015</td>\n",
       "      <td>Albany</td>\n",
       "    </tr>\n",
       "    <tr>\n",
       "      <th>1</th>\n",
       "      <td>1</td>\n",
       "      <td>2015-12-20</td>\n",
       "      <td>1.35</td>\n",
       "      <td>54876.98</td>\n",
       "      <td>674.28</td>\n",
       "      <td>44638.81</td>\n",
       "      <td>58.33</td>\n",
       "      <td>9505.56</td>\n",
       "      <td>9408.07</td>\n",
       "      <td>97.49</td>\n",
       "      <td>0.0</td>\n",
       "      <td>conventional</td>\n",
       "      <td>2015</td>\n",
       "      <td>Albany</td>\n",
       "    </tr>\n",
       "    <tr>\n",
       "      <th>2</th>\n",
       "      <td>2</td>\n",
       "      <td>2015-12-13</td>\n",
       "      <td>0.93</td>\n",
       "      <td>118220.22</td>\n",
       "      <td>794.70</td>\n",
       "      <td>109149.67</td>\n",
       "      <td>130.50</td>\n",
       "      <td>8145.35</td>\n",
       "      <td>8042.21</td>\n",
       "      <td>103.14</td>\n",
       "      <td>0.0</td>\n",
       "      <td>conventional</td>\n",
       "      <td>2015</td>\n",
       "      <td>Albany</td>\n",
       "    </tr>\n",
       "    <tr>\n",
       "      <th>3</th>\n",
       "      <td>3</td>\n",
       "      <td>2015-12-06</td>\n",
       "      <td>1.08</td>\n",
       "      <td>78992.15</td>\n",
       "      <td>1132.00</td>\n",
       "      <td>71976.41</td>\n",
       "      <td>72.58</td>\n",
       "      <td>5811.16</td>\n",
       "      <td>5677.40</td>\n",
       "      <td>133.76</td>\n",
       "      <td>0.0</td>\n",
       "      <td>conventional</td>\n",
       "      <td>2015</td>\n",
       "      <td>Albany</td>\n",
       "    </tr>\n",
       "    <tr>\n",
       "      <th>4</th>\n",
       "      <td>4</td>\n",
       "      <td>2015-11-29</td>\n",
       "      <td>1.28</td>\n",
       "      <td>51039.60</td>\n",
       "      <td>941.48</td>\n",
       "      <td>43838.39</td>\n",
       "      <td>75.78</td>\n",
       "      <td>6183.95</td>\n",
       "      <td>5986.26</td>\n",
       "      <td>197.69</td>\n",
       "      <td>0.0</td>\n",
       "      <td>conventional</td>\n",
       "      <td>2015</td>\n",
       "      <td>Albany</td>\n",
       "    </tr>\n",
       "    <tr>\n",
       "      <th>...</th>\n",
       "      <td>...</td>\n",
       "      <td>...</td>\n",
       "      <td>...</td>\n",
       "      <td>...</td>\n",
       "      <td>...</td>\n",
       "      <td>...</td>\n",
       "      <td>...</td>\n",
       "      <td>...</td>\n",
       "      <td>...</td>\n",
       "      <td>...</td>\n",
       "      <td>...</td>\n",
       "      <td>...</td>\n",
       "      <td>...</td>\n",
       "      <td>...</td>\n",
       "    </tr>\n",
       "    <tr>\n",
       "      <th>18244</th>\n",
       "      <td>7</td>\n",
       "      <td>2018-02-04</td>\n",
       "      <td>1.63</td>\n",
       "      <td>17074.83</td>\n",
       "      <td>2046.96</td>\n",
       "      <td>1529.20</td>\n",
       "      <td>0.00</td>\n",
       "      <td>13498.67</td>\n",
       "      <td>13066.82</td>\n",
       "      <td>431.85</td>\n",
       "      <td>0.0</td>\n",
       "      <td>organic</td>\n",
       "      <td>2018</td>\n",
       "      <td>WestTexNewMexico</td>\n",
       "    </tr>\n",
       "    <tr>\n",
       "      <th>18245</th>\n",
       "      <td>8</td>\n",
       "      <td>2018-01-28</td>\n",
       "      <td>1.71</td>\n",
       "      <td>13888.04</td>\n",
       "      <td>1191.70</td>\n",
       "      <td>3431.50</td>\n",
       "      <td>0.00</td>\n",
       "      <td>9264.84</td>\n",
       "      <td>8940.04</td>\n",
       "      <td>324.80</td>\n",
       "      <td>0.0</td>\n",
       "      <td>organic</td>\n",
       "      <td>2018</td>\n",
       "      <td>WestTexNewMexico</td>\n",
       "    </tr>\n",
       "    <tr>\n",
       "      <th>18246</th>\n",
       "      <td>9</td>\n",
       "      <td>2018-01-21</td>\n",
       "      <td>1.87</td>\n",
       "      <td>13766.76</td>\n",
       "      <td>1191.92</td>\n",
       "      <td>2452.79</td>\n",
       "      <td>727.94</td>\n",
       "      <td>9394.11</td>\n",
       "      <td>9351.80</td>\n",
       "      <td>42.31</td>\n",
       "      <td>0.0</td>\n",
       "      <td>organic</td>\n",
       "      <td>2018</td>\n",
       "      <td>WestTexNewMexico</td>\n",
       "    </tr>\n",
       "    <tr>\n",
       "      <th>18247</th>\n",
       "      <td>10</td>\n",
       "      <td>2018-01-14</td>\n",
       "      <td>1.93</td>\n",
       "      <td>16205.22</td>\n",
       "      <td>1527.63</td>\n",
       "      <td>2981.04</td>\n",
       "      <td>727.01</td>\n",
       "      <td>10969.54</td>\n",
       "      <td>10919.54</td>\n",
       "      <td>50.00</td>\n",
       "      <td>0.0</td>\n",
       "      <td>organic</td>\n",
       "      <td>2018</td>\n",
       "      <td>WestTexNewMexico</td>\n",
       "    </tr>\n",
       "    <tr>\n",
       "      <th>18248</th>\n",
       "      <td>11</td>\n",
       "      <td>2018-01-07</td>\n",
       "      <td>1.62</td>\n",
       "      <td>17489.58</td>\n",
       "      <td>2894.77</td>\n",
       "      <td>2356.13</td>\n",
       "      <td>224.53</td>\n",
       "      <td>12014.15</td>\n",
       "      <td>11988.14</td>\n",
       "      <td>26.01</td>\n",
       "      <td>0.0</td>\n",
       "      <td>organic</td>\n",
       "      <td>2018</td>\n",
       "      <td>WestTexNewMexico</td>\n",
       "    </tr>\n",
       "  </tbody>\n",
       "</table>\n",
       "<p>18249 rows × 14 columns</p>\n",
       "</div>"
      ],
      "text/plain": [
       "       Unnamed: 0       Date  AveragePrice  Total Volume     4046       4225  \\\n",
       "0               0 2015-12-27          1.33      64236.62  1036.74   54454.85   \n",
       "1               1 2015-12-20          1.35      54876.98   674.28   44638.81   \n",
       "2               2 2015-12-13          0.93     118220.22   794.70  109149.67   \n",
       "3               3 2015-12-06          1.08      78992.15  1132.00   71976.41   \n",
       "4               4 2015-11-29          1.28      51039.60   941.48   43838.39   \n",
       "...           ...        ...           ...           ...      ...        ...   \n",
       "18244           7 2018-02-04          1.63      17074.83  2046.96    1529.20   \n",
       "18245           8 2018-01-28          1.71      13888.04  1191.70    3431.50   \n",
       "18246           9 2018-01-21          1.87      13766.76  1191.92    2452.79   \n",
       "18247          10 2018-01-14          1.93      16205.22  1527.63    2981.04   \n",
       "18248          11 2018-01-07          1.62      17489.58  2894.77    2356.13   \n",
       "\n",
       "         4770  Total Bags  Small Bags  Large Bags  XLarge Bags          type  \\\n",
       "0       48.16     8696.87     8603.62       93.25          0.0  conventional   \n",
       "1       58.33     9505.56     9408.07       97.49          0.0  conventional   \n",
       "2      130.50     8145.35     8042.21      103.14          0.0  conventional   \n",
       "3       72.58     5811.16     5677.40      133.76          0.0  conventional   \n",
       "4       75.78     6183.95     5986.26      197.69          0.0  conventional   \n",
       "...       ...         ...         ...         ...          ...           ...   \n",
       "18244    0.00    13498.67    13066.82      431.85          0.0       organic   \n",
       "18245    0.00     9264.84     8940.04      324.80          0.0       organic   \n",
       "18246  727.94     9394.11     9351.80       42.31          0.0       organic   \n",
       "18247  727.01    10969.54    10919.54       50.00          0.0       organic   \n",
       "18248  224.53    12014.15    11988.14       26.01          0.0       organic   \n",
       "\n",
       "       year            region  \n",
       "0      2015            Albany  \n",
       "1      2015            Albany  \n",
       "2      2015            Albany  \n",
       "3      2015            Albany  \n",
       "4      2015            Albany  \n",
       "...     ...               ...  \n",
       "18244  2018  WestTexNewMexico  \n",
       "18245  2018  WestTexNewMexico  \n",
       "18246  2018  WestTexNewMexico  \n",
       "18247  2018  WestTexNewMexico  \n",
       "18248  2018  WestTexNewMexico  \n",
       "\n",
       "[18249 rows x 14 columns]"
      ]
     },
     "execution_count": 38,
     "metadata": {},
     "output_type": "execute_result"
    }
   ],
   "source": [
    "#Import avocado.csv file\n",
    "df=pd.read_csv('avocado.csv',parse_dates=['Date'])\n",
    "df"
   ]
  },
  {
   "cell_type": "code",
   "execution_count": 39,
   "metadata": {},
   "outputs": [
    {
     "data": {
      "text/plain": [
       "(18249, 14)"
      ]
     },
     "execution_count": 39,
     "metadata": {},
     "output_type": "execute_result"
    }
   ],
   "source": [
    "df.shape"
   ]
  },
  {
   "cell_type": "code",
   "execution_count": 40,
   "metadata": {},
   "outputs": [
    {
     "data": {
      "text/plain": [
       "Index(['Unnamed: 0', 'Date', 'AveragePrice', 'Total Volume', '4046', '4225',\n",
       "       '4770', 'Total Bags', 'Small Bags', 'Large Bags', 'XLarge Bags', 'type',\n",
       "       'year', 'region'],\n",
       "      dtype='object')"
      ]
     },
     "execution_count": 40,
     "metadata": {},
     "output_type": "execute_result"
    }
   ],
   "source": [
    "df.columns"
   ]
  },
  {
   "cell_type": "code",
   "execution_count": 41,
   "metadata": {},
   "outputs": [
    {
     "data": {
      "text/plain": [
       "Unnamed: 0               int64\n",
       "Date            datetime64[ns]\n",
       "AveragePrice           float64\n",
       "Total Volume           float64\n",
       "4046                   float64\n",
       "4225                   float64\n",
       "4770                   float64\n",
       "Total Bags             float64\n",
       "Small Bags             float64\n",
       "Large Bags             float64\n",
       "XLarge Bags            float64\n",
       "type                    object\n",
       "year                     int64\n",
       "region                  object\n",
       "dtype: object"
      ]
     },
     "execution_count": 41,
     "metadata": {},
     "output_type": "execute_result"
    }
   ],
   "source": [
    "df.dtypes"
   ]
  },
  {
   "cell_type": "markdown",
   "metadata": {},
   "source": [
    "Finding:\n",
    "\n",
    "1. Year is int datatype and region and type is object data type and other features are flot datatype.\n",
    "2. Acoording to our Hypothesis or data region and type are category type.\n",
    "3. During cleansing process data type change and also check about Year and Date."
   ]
  },
  {
   "cell_type": "code",
   "execution_count": 42,
   "metadata": {},
   "outputs": [
    {
     "name": "stdout",
     "output_type": "stream",
     "text": [
      "<class 'pandas.core.frame.DataFrame'>\n",
      "RangeIndex: 18249 entries, 0 to 18248\n",
      "Data columns (total 14 columns):\n",
      " #   Column        Non-Null Count  Dtype         \n",
      "---  ------        --------------  -----         \n",
      " 0   Unnamed: 0    18249 non-null  int64         \n",
      " 1   Date          18249 non-null  datetime64[ns]\n",
      " 2   AveragePrice  18249 non-null  float64       \n",
      " 3   Total Volume  18249 non-null  float64       \n",
      " 4   4046          18249 non-null  float64       \n",
      " 5   4225          18249 non-null  float64       \n",
      " 6   4770          18249 non-null  float64       \n",
      " 7   Total Bags    18249 non-null  float64       \n",
      " 8   Small Bags    18249 non-null  float64       \n",
      " 9   Large Bags    18249 non-null  float64       \n",
      " 10  XLarge Bags   18249 non-null  float64       \n",
      " 11  type          18249 non-null  object        \n",
      " 12  year          18249 non-null  int64         \n",
      " 13  region        18249 non-null  object        \n",
      "dtypes: datetime64[ns](1), float64(9), int64(2), object(2)\n",
      "memory usage: 1.9+ MB\n"
     ]
    }
   ],
   "source": [
    "df.info()"
   ]
  },
  {
   "cell_type": "markdown",
   "metadata": {},
   "source": [
    "Finding:\n",
    "\n",
    "1. No missing value in any features.\n",
    "2. 1517 rows with 13 columns in this dataset.\n",
    "3. 9 features are float data type,1 feature Year is int data type and 2 features object data type."
   ]
  },
  {
   "cell_type": "code",
   "execution_count": 43,
   "metadata": {},
   "outputs": [
    {
     "data": {
      "text/plain": [
       "Unnamed: 0      0\n",
       "Date            0\n",
       "AveragePrice    0\n",
       "Total Volume    0\n",
       "4046            0\n",
       "4225            0\n",
       "4770            0\n",
       "Total Bags      0\n",
       "Small Bags      0\n",
       "Large Bags      0\n",
       "XLarge Bags     0\n",
       "type            0\n",
       "year            0\n",
       "region          0\n",
       "dtype: int64"
      ]
     },
     "execution_count": 43,
     "metadata": {},
     "output_type": "execute_result"
    }
   ],
   "source": [
    "#checking for missing values\n",
    "df.isnull().sum()"
   ]
  },
  {
   "cell_type": "code",
   "execution_count": 44,
   "metadata": {},
   "outputs": [
    {
     "data": {
      "image/png": "[encoded data removed]",
      "text/plain": [
       "<Figure size 432x288 with 2 Axes>"
      ]
     },
     "metadata": {
      "needs_background": "light"
     },
     "output_type": "display_data"
    }
   ],
   "source": [
    "sns.heatmap(df.isnull())\n",
    "plt.show()"
   ]
  },
  {
   "cell_type": "code",
   "execution_count": 45,
   "metadata": {},
   "outputs": [
    {
     "data": {
      "text/html": [
       "<div>\n",
       "<style scoped>\n",
       "    .dataframe tbody tr th:only-of-type {\n",
       "        vertical-align: middle;\n",
       "    }\n",
       "\n",
       "    .dataframe tbody tr th {\n",
       "        vertical-align: top;\n",
       "    }\n",
       "\n",
       "    .dataframe thead th {\n",
       "        text-align: right;\n",
       "    }\n",
       "</style>\n",
       "<table border=\"1\" class=\"dataframe\">\n",
       "  <thead>\n",
       "    <tr style=\"text-align: right;\">\n",
       "      <th></th>\n",
       "      <th>Unnamed: 0</th>\n",
       "      <th>AveragePrice</th>\n",
       "      <th>Total Volume</th>\n",
       "      <th>4046</th>\n",
       "      <th>4225</th>\n",
       "      <th>4770</th>\n",
       "      <th>Total Bags</th>\n",
       "      <th>Small Bags</th>\n",
       "      <th>Large Bags</th>\n",
       "      <th>XLarge Bags</th>\n",
       "      <th>year</th>\n",
       "    </tr>\n",
       "  </thead>\n",
       "  <tbody>\n",
       "    <tr>\n",
       "      <th>count</th>\n",
       "      <td>18249.000000</td>\n",
       "      <td>18249.000000</td>\n",
       "      <td>1.824900e+04</td>\n",
       "      <td>1.824900e+04</td>\n",
       "      <td>1.824900e+04</td>\n",
       "      <td>1.824900e+04</td>\n",
       "      <td>1.824900e+04</td>\n",
       "      <td>1.824900e+04</td>\n",
       "      <td>1.824900e+04</td>\n",
       "      <td>18249.000000</td>\n",
       "      <td>18249.000000</td>\n",
       "    </tr>\n",
       "    <tr>\n",
       "      <th>mean</th>\n",
       "      <td>24.232232</td>\n",
       "      <td>1.405978</td>\n",
       "      <td>8.506440e+05</td>\n",
       "      <td>2.930084e+05</td>\n",
       "      <td>2.951546e+05</td>\n",
       "      <td>2.283974e+04</td>\n",
       "      <td>2.396392e+05</td>\n",
       "      <td>1.821947e+05</td>\n",
       "      <td>5.433809e+04</td>\n",
       "      <td>3106.426507</td>\n",
       "      <td>2016.147899</td>\n",
       "    </tr>\n",
       "    <tr>\n",
       "      <th>std</th>\n",
       "      <td>15.481045</td>\n",
       "      <td>0.402677</td>\n",
       "      <td>3.453545e+06</td>\n",
       "      <td>1.264989e+06</td>\n",
       "      <td>1.204120e+06</td>\n",
       "      <td>1.074641e+05</td>\n",
       "      <td>9.862424e+05</td>\n",
       "      <td>7.461785e+05</td>\n",
       "      <td>2.439660e+05</td>\n",
       "      <td>17692.894652</td>\n",
       "      <td>0.939938</td>\n",
       "    </tr>\n",
       "    <tr>\n",
       "      <th>min</th>\n",
       "      <td>0.000000</td>\n",
       "      <td>0.440000</td>\n",
       "      <td>8.456000e+01</td>\n",
       "      <td>0.000000e+00</td>\n",
       "      <td>0.000000e+00</td>\n",
       "      <td>0.000000e+00</td>\n",
       "      <td>0.000000e+00</td>\n",
       "      <td>0.000000e+00</td>\n",
       "      <td>0.000000e+00</td>\n",
       "      <td>0.000000</td>\n",
       "      <td>2015.000000</td>\n",
       "    </tr>\n",
       "    <tr>\n",
       "      <th>25%</th>\n",
       "      <td>10.000000</td>\n",
       "      <td>1.100000</td>\n",
       "      <td>1.083858e+04</td>\n",
       "      <td>8.540700e+02</td>\n",
       "      <td>3.008780e+03</td>\n",
       "      <td>0.000000e+00</td>\n",
       "      <td>5.088640e+03</td>\n",
       "      <td>2.849420e+03</td>\n",
       "      <td>1.274700e+02</td>\n",
       "      <td>0.000000</td>\n",
       "      <td>2015.000000</td>\n",
       "    </tr>\n",
       "    <tr>\n",
       "      <th>50%</th>\n",
       "      <td>24.000000</td>\n",
       "      <td>1.370000</td>\n",
       "      <td>1.073768e+05</td>\n",
       "      <td>8.645300e+03</td>\n",
       "      <td>2.906102e+04</td>\n",
       "      <td>1.849900e+02</td>\n",
       "      <td>3.974383e+04</td>\n",
       "      <td>2.636282e+04</td>\n",
       "      <td>2.647710e+03</td>\n",
       "      <td>0.000000</td>\n",
       "      <td>2016.000000</td>\n",
       "    </tr>\n",
       "    <tr>\n",
       "      <th>75%</th>\n",
       "      <td>38.000000</td>\n",
       "      <td>1.660000</td>\n",
       "      <td>4.329623e+05</td>\n",
       "      <td>1.110202e+05</td>\n",
       "      <td>1.502069e+05</td>\n",
       "      <td>6.243420e+03</td>\n",
       "      <td>1.107834e+05</td>\n",
       "      <td>8.333767e+04</td>\n",
       "      <td>2.202925e+04</td>\n",
       "      <td>132.500000</td>\n",
       "      <td>2017.000000</td>\n",
       "    </tr>\n",
       "    <tr>\n",
       "      <th>max</th>\n",
       "      <td>52.000000</td>\n",
       "      <td>3.250000</td>\n",
       "      <td>6.250565e+07</td>\n",
       "      <td>2.274362e+07</td>\n",
       "      <td>2.047057e+07</td>\n",
       "      <td>2.546439e+06</td>\n",
       "      <td>1.937313e+07</td>\n",
       "      <td>1.338459e+07</td>\n",
       "      <td>5.719097e+06</td>\n",
       "      <td>551693.650000</td>\n",
       "      <td>2018.000000</td>\n",
       "    </tr>\n",
       "  </tbody>\n",
       "</table>\n",
       "</div>"
      ],
      "text/plain": [
       "         Unnamed: 0  AveragePrice  Total Volume          4046          4225  \\\n",
       "count  18249.000000  18249.000000  1.824900e+04  1.824900e+04  1.824900e+04   \n",
       "mean      24.232232      1.405978  8.506440e+05  2.930084e+05  2.951546e+05   \n",
       "std       15.481045      0.402677  3.453545e+06  1.264989e+06  1.204120e+06   \n",
       "min        0.000000      0.440000  8.456000e+01  0.000000e+00  0.000000e+00   \n",
       "25%       10.000000      1.100000  1.083858e+04  8.540700e+02  3.008780e+03   \n",
       "50%       24.000000      1.370000  1.073768e+05  8.645300e+03  2.906102e+04   \n",
       "75%       38.000000      1.660000  4.329623e+05  1.110202e+05  1.502069e+05   \n",
       "max       52.000000      3.250000  6.250565e+07  2.274362e+07  2.047057e+07   \n",
       "\n",
       "               4770    Total Bags    Small Bags    Large Bags    XLarge Bags  \\\n",
       "count  1.824900e+04  1.824900e+04  1.824900e+04  1.824900e+04   18249.000000   \n",
       "mean   2.283974e+04  2.396392e+05  1.821947e+05  5.433809e+04    3106.426507   \n",
       "std    1.074641e+05  9.862424e+05  7.461785e+05  2.439660e+05   17692.894652   \n",
       "min    0.000000e+00  0.000000e+00  0.000000e+00  0.000000e+00       0.000000   \n",
       "25%    0.000000e+00  5.088640e+03  2.849420e+03  1.274700e+02       0.000000   \n",
       "50%    1.849900e+02  3.974383e+04  2.636282e+04  2.647710e+03       0.000000   \n",
       "75%    6.243420e+03  1.107834e+05  8.333767e+04  2.202925e+04     132.500000   \n",
       "max    2.546439e+06  1.937313e+07  1.338459e+07  5.719097e+06  551693.650000   \n",
       "\n",
       "               year  \n",
       "count  18249.000000  \n",
       "mean    2016.147899  \n",
       "std        0.939938  \n",
       "min     2015.000000  \n",
       "25%     2015.000000  \n",
       "50%     2016.000000  \n",
       "75%     2017.000000  \n",
       "max     2018.000000  "
      ]
     },
     "execution_count": 45,
     "metadata": {},
     "output_type": "execute_result"
    }
   ],
   "source": [
    "#summary statistics\n",
    "df.describe()"
   ]
  },
  {
   "cell_type": "markdown",
   "metadata": {},
   "source": [
    "Observation:\n",
    "\n",
    "1. Min,25%and 50% value of XLarge Bags is 0 and difference between 75% and max very large.\n",
    "2. Acoording to above 1 statment skewness and oultliers present in XLarge Bags.\n",
    "3. In Year feature only four years 2015, 2016, 2017, 2018 present."
   ]
  },
  {
   "cell_type": "code",
   "execution_count": 46,
   "metadata": {},
   "outputs": [
    {
     "data": {
      "text/html": [
       "<div>\n",
       "<style scoped>\n",
       "    .dataframe tbody tr th:only-of-type {\n",
       "        vertical-align: middle;\n",
       "    }\n",
       "\n",
       "    .dataframe tbody tr th {\n",
       "        vertical-align: top;\n",
       "    }\n",
       "\n",
       "    .dataframe thead th {\n",
       "        text-align: right;\n",
       "    }\n",
       "</style>\n",
       "<table border=\"1\" class=\"dataframe\">\n",
       "  <thead>\n",
       "    <tr style=\"text-align: right;\">\n",
       "      <th></th>\n",
       "      <th>Unnamed: 0</th>\n",
       "      <th>AveragePrice</th>\n",
       "      <th>Total Volume</th>\n",
       "      <th>4046</th>\n",
       "      <th>4225</th>\n",
       "      <th>4770</th>\n",
       "      <th>Total Bags</th>\n",
       "      <th>Small Bags</th>\n",
       "      <th>Large Bags</th>\n",
       "      <th>XLarge Bags</th>\n",
       "      <th>year</th>\n",
       "    </tr>\n",
       "  </thead>\n",
       "  <tbody>\n",
       "    <tr>\n",
       "      <th>Unnamed: 0</th>\n",
       "      <td>1.000000</td>\n",
       "      <td>-0.133008</td>\n",
       "      <td>0.014035</td>\n",
       "      <td>0.017628</td>\n",
       "      <td>0.019829</td>\n",
       "      <td>0.041752</td>\n",
       "      <td>-0.002219</td>\n",
       "      <td>0.000347</td>\n",
       "      <td>-0.009196</td>\n",
       "      <td>-0.011546</td>\n",
       "      <td>-0.171667</td>\n",
       "    </tr>\n",
       "    <tr>\n",
       "      <th>AveragePrice</th>\n",
       "      <td>-0.133008</td>\n",
       "      <td>1.000000</td>\n",
       "      <td>-0.192752</td>\n",
       "      <td>-0.208317</td>\n",
       "      <td>-0.172928</td>\n",
       "      <td>-0.179446</td>\n",
       "      <td>-0.177088</td>\n",
       "      <td>-0.174730</td>\n",
       "      <td>-0.172940</td>\n",
       "      <td>-0.117592</td>\n",
       "      <td>0.093197</td>\n",
       "    </tr>\n",
       "    <tr>\n",
       "      <th>Total Volume</th>\n",
       "      <td>0.014035</td>\n",
       "      <td>-0.192752</td>\n",
       "      <td>1.000000</td>\n",
       "      <td>0.977863</td>\n",
       "      <td>0.974181</td>\n",
       "      <td>0.872202</td>\n",
       "      <td>0.963047</td>\n",
       "      <td>0.967238</td>\n",
       "      <td>0.880640</td>\n",
       "      <td>0.747157</td>\n",
       "      <td>0.017193</td>\n",
       "    </tr>\n",
       "    <tr>\n",
       "      <th>4046</th>\n",
       "      <td>0.017628</td>\n",
       "      <td>-0.208317</td>\n",
       "      <td>0.977863</td>\n",
       "      <td>1.000000</td>\n",
       "      <td>0.926110</td>\n",
       "      <td>0.833389</td>\n",
       "      <td>0.920057</td>\n",
       "      <td>0.925280</td>\n",
       "      <td>0.838645</td>\n",
       "      <td>0.699377</td>\n",
       "      <td>0.003353</td>\n",
       "    </tr>\n",
       "    <tr>\n",
       "      <th>4225</th>\n",
       "      <td>0.019829</td>\n",
       "      <td>-0.172928</td>\n",
       "      <td>0.974181</td>\n",
       "      <td>0.926110</td>\n",
       "      <td>1.000000</td>\n",
       "      <td>0.887855</td>\n",
       "      <td>0.905787</td>\n",
       "      <td>0.916031</td>\n",
       "      <td>0.810015</td>\n",
       "      <td>0.688809</td>\n",
       "      <td>-0.009559</td>\n",
       "    </tr>\n",
       "    <tr>\n",
       "      <th>4770</th>\n",
       "      <td>0.041752</td>\n",
       "      <td>-0.179446</td>\n",
       "      <td>0.872202</td>\n",
       "      <td>0.833389</td>\n",
       "      <td>0.887855</td>\n",
       "      <td>1.000000</td>\n",
       "      <td>0.792314</td>\n",
       "      <td>0.802733</td>\n",
       "      <td>0.698471</td>\n",
       "      <td>0.679861</td>\n",
       "      <td>-0.036531</td>\n",
       "    </tr>\n",
       "    <tr>\n",
       "      <th>Total Bags</th>\n",
       "      <td>-0.002219</td>\n",
       "      <td>-0.177088</td>\n",
       "      <td>0.963047</td>\n",
       "      <td>0.920057</td>\n",
       "      <td>0.905787</td>\n",
       "      <td>0.792314</td>\n",
       "      <td>1.000000</td>\n",
       "      <td>0.994335</td>\n",
       "      <td>0.943009</td>\n",
       "      <td>0.804233</td>\n",
       "      <td>0.071552</td>\n",
       "    </tr>\n",
       "    <tr>\n",
       "      <th>Small Bags</th>\n",
       "      <td>0.000347</td>\n",
       "      <td>-0.174730</td>\n",
       "      <td>0.967238</td>\n",
       "      <td>0.925280</td>\n",
       "      <td>0.916031</td>\n",
       "      <td>0.802733</td>\n",
       "      <td>0.994335</td>\n",
       "      <td>1.000000</td>\n",
       "      <td>0.902589</td>\n",
       "      <td>0.806845</td>\n",
       "      <td>0.063915</td>\n",
       "    </tr>\n",
       "    <tr>\n",
       "      <th>Large Bags</th>\n",
       "      <td>-0.009196</td>\n",
       "      <td>-0.172940</td>\n",
       "      <td>0.880640</td>\n",
       "      <td>0.838645</td>\n",
       "      <td>0.810015</td>\n",
       "      <td>0.698471</td>\n",
       "      <td>0.943009</td>\n",
       "      <td>0.902589</td>\n",
       "      <td>1.000000</td>\n",
       "      <td>0.710858</td>\n",
       "      <td>0.087891</td>\n",
       "    </tr>\n",
       "    <tr>\n",
       "      <th>XLarge Bags</th>\n",
       "      <td>-0.011546</td>\n",
       "      <td>-0.117592</td>\n",
       "      <td>0.747157</td>\n",
       "      <td>0.699377</td>\n",
       "      <td>0.688809</td>\n",
       "      <td>0.679861</td>\n",
       "      <td>0.804233</td>\n",
       "      <td>0.806845</td>\n",
       "      <td>0.710858</td>\n",
       "      <td>1.000000</td>\n",
       "      <td>0.081033</td>\n",
       "    </tr>\n",
       "    <tr>\n",
       "      <th>year</th>\n",
       "      <td>-0.171667</td>\n",
       "      <td>0.093197</td>\n",
       "      <td>0.017193</td>\n",
       "      <td>0.003353</td>\n",
       "      <td>-0.009559</td>\n",
       "      <td>-0.036531</td>\n",
       "      <td>0.071552</td>\n",
       "      <td>0.063915</td>\n",
       "      <td>0.087891</td>\n",
       "      <td>0.081033</td>\n",
       "      <td>1.000000</td>\n",
       "    </tr>\n",
       "  </tbody>\n",
       "</table>\n",
       "</div>"
      ],
      "text/plain": [
       "              Unnamed: 0  AveragePrice  Total Volume      4046      4225  \\\n",
       "Unnamed: 0      1.000000     -0.133008      0.014035  0.017628  0.019829   \n",
       "AveragePrice   -0.133008      1.000000     -0.192752 -0.208317 -0.172928   \n",
       "Total Volume    0.014035     -0.192752      1.000000  0.977863  0.974181   \n",
       "4046            0.017628     -0.208317      0.977863  1.000000  0.926110   \n",
       "4225            0.019829     -0.172928      0.974181  0.926110  1.000000   \n",
       "4770            0.041752     -0.179446      0.872202  0.833389  0.887855   \n",
       "Total Bags     -0.002219     -0.177088      0.963047  0.920057  0.905787   \n",
       "Small Bags      0.000347     -0.174730      0.967238  0.925280  0.916031   \n",
       "Large Bags     -0.009196     -0.172940      0.880640  0.838645  0.810015   \n",
       "XLarge Bags    -0.011546     -0.117592      0.747157  0.699377  0.688809   \n",
       "year           -0.171667      0.093197      0.017193  0.003353 -0.009559   \n",
       "\n",
       "                  4770  Total Bags  Small Bags  Large Bags  XLarge Bags  \\\n",
       "Unnamed: 0    0.041752   -0.002219    0.000347   -0.009196    -0.011546   \n",
       "AveragePrice -0.179446   -0.177088   -0.174730   -0.172940    -0.117592   \n",
       "Total Volume  0.872202    0.963047    0.967238    0.880640     0.747157   \n",
       "4046          0.833389    0.920057    0.925280    0.838645     0.699377   \n",
       "4225          0.887855    0.905787    0.916031    0.810015     0.688809   \n",
       "4770          1.000000    0.792314    0.802733    0.698471     0.679861   \n",
       "Total Bags    0.792314    1.000000    0.994335    0.943009     0.804233   \n",
       "Small Bags    0.802733    0.994335    1.000000    0.902589     0.806845   \n",
       "Large Bags    0.698471    0.943009    0.902589    1.000000     0.710858   \n",
       "XLarge Bags   0.679861    0.804233    0.806845    0.710858     1.000000   \n",
       "year         -0.036531    0.071552    0.063915    0.087891     0.081033   \n",
       "\n",
       "                  year  \n",
       "Unnamed: 0   -0.171667  \n",
       "AveragePrice  0.093197  \n",
       "Total Volume  0.017193  \n",
       "4046          0.003353  \n",
       "4225         -0.009559  \n",
       "4770         -0.036531  \n",
       "Total Bags    0.071552  \n",
       "Small Bags    0.063915  \n",
       "Large Bags    0.087891  \n",
       "XLarge Bags   0.081033  \n",
       "year          1.000000  "
      ]
     },
     "execution_count": 46,
     "metadata": {},
     "output_type": "execute_result"
    }
   ],
   "source": [
    "#check correlation\n",
    "df.corr()"
   ]
  },
  {
   "cell_type": "code",
   "execution_count": 47,
   "metadata": {},
   "outputs": [
    {
     "data": {
      "text/plain": [
       "<matplotlib.axes._subplots.AxesSubplot at 0x1595b6b8d08>"
      ]
     },
     "execution_count": 47,
     "metadata": {},
     "output_type": "execute_result"
    },
    {
     "data": {
      "image/png": "[encoded data removed]",
      "text/plain": [
       "<Figure size 864x864 with 2 Axes>"
      ]
     },
     "metadata": {
      "needs_background": "light"
     },
     "output_type": "display_data"
    }
   ],
   "source": [
    "plt.figure(figsize=(12,12))\n",
    "sns.heatmap(df.corr(),cmap='rocket',annot=True)"
   ]
  },
  {
   "cell_type": "markdown",
   "metadata": {},
   "source": [
    "Observation:\n",
    "\n",
    "1. Light shades are highly correlated .\n",
    "2. AveragePrice positively correlated to all feature exept Year.\n",
    "3. AveragePrice higly negatively correlated with 4046 and Large Bags.\n",
    "4. Year and AveragePrice neagtivelt correlated with other feature.\n",
    "5. Most of the columns are highly correlated."
   ]
  },
  {
   "cell_type": "code",
   "execution_count": 48,
   "metadata": {},
   "outputs": [
    {
     "data": {
      "text/html": [
       "<div>\n",
       "<style scoped>\n",
       "    .dataframe tbody tr th:only-of-type {\n",
       "        vertical-align: middle;\n",
       "    }\n",
       "\n",
       "    .dataframe tbody tr th {\n",
       "        vertical-align: top;\n",
       "    }\n",
       "\n",
       "    .dataframe thead th {\n",
       "        text-align: right;\n",
       "    }\n",
       "</style>\n",
       "<table border=\"1\" class=\"dataframe\">\n",
       "  <thead>\n",
       "    <tr style=\"text-align: right;\">\n",
       "      <th></th>\n",
       "      <th>month</th>\n",
       "      <th>year</th>\n",
       "      <th>day</th>\n",
       "      <th>AveragePrice</th>\n",
       "      <th>region</th>\n",
       "      <th>type</th>\n",
       "    </tr>\n",
       "  </thead>\n",
       "  <tbody>\n",
       "    <tr>\n",
       "      <th>0</th>\n",
       "      <td>December</td>\n",
       "      <td>2015</td>\n",
       "      <td>Sunday</td>\n",
       "      <td>1.33</td>\n",
       "      <td>Albany</td>\n",
       "      <td>conventional</td>\n",
       "    </tr>\n",
       "    <tr>\n",
       "      <th>1</th>\n",
       "      <td>December</td>\n",
       "      <td>2015</td>\n",
       "      <td>Sunday</td>\n",
       "      <td>1.35</td>\n",
       "      <td>Albany</td>\n",
       "      <td>conventional</td>\n",
       "    </tr>\n",
       "    <tr>\n",
       "      <th>2</th>\n",
       "      <td>December</td>\n",
       "      <td>2015</td>\n",
       "      <td>Sunday</td>\n",
       "      <td>0.93</td>\n",
       "      <td>Albany</td>\n",
       "      <td>conventional</td>\n",
       "    </tr>\n",
       "    <tr>\n",
       "      <th>3</th>\n",
       "      <td>December</td>\n",
       "      <td>2015</td>\n",
       "      <td>Sunday</td>\n",
       "      <td>1.08</td>\n",
       "      <td>Albany</td>\n",
       "      <td>conventional</td>\n",
       "    </tr>\n",
       "    <tr>\n",
       "      <th>4</th>\n",
       "      <td>November</td>\n",
       "      <td>2015</td>\n",
       "      <td>Sunday</td>\n",
       "      <td>1.28</td>\n",
       "      <td>Albany</td>\n",
       "      <td>conventional</td>\n",
       "    </tr>\n",
       "    <tr>\n",
       "      <th>...</th>\n",
       "      <td>...</td>\n",
       "      <td>...</td>\n",
       "      <td>...</td>\n",
       "      <td>...</td>\n",
       "      <td>...</td>\n",
       "      <td>...</td>\n",
       "    </tr>\n",
       "    <tr>\n",
       "      <th>18244</th>\n",
       "      <td>February</td>\n",
       "      <td>2018</td>\n",
       "      <td>Sunday</td>\n",
       "      <td>1.63</td>\n",
       "      <td>WestTexNewMexico</td>\n",
       "      <td>organic</td>\n",
       "    </tr>\n",
       "    <tr>\n",
       "      <th>18245</th>\n",
       "      <td>January</td>\n",
       "      <td>2018</td>\n",
       "      <td>Sunday</td>\n",
       "      <td>1.71</td>\n",
       "      <td>WestTexNewMexico</td>\n",
       "      <td>organic</td>\n",
       "    </tr>\n",
       "    <tr>\n",
       "      <th>18246</th>\n",
       "      <td>January</td>\n",
       "      <td>2018</td>\n",
       "      <td>Sunday</td>\n",
       "      <td>1.87</td>\n",
       "      <td>WestTexNewMexico</td>\n",
       "      <td>organic</td>\n",
       "    </tr>\n",
       "    <tr>\n",
       "      <th>18247</th>\n",
       "      <td>January</td>\n",
       "      <td>2018</td>\n",
       "      <td>Sunday</td>\n",
       "      <td>1.93</td>\n",
       "      <td>WestTexNewMexico</td>\n",
       "      <td>organic</td>\n",
       "    </tr>\n",
       "    <tr>\n",
       "      <th>18248</th>\n",
       "      <td>January</td>\n",
       "      <td>2018</td>\n",
       "      <td>Sunday</td>\n",
       "      <td>1.62</td>\n",
       "      <td>WestTexNewMexico</td>\n",
       "      <td>organic</td>\n",
       "    </tr>\n",
       "  </tbody>\n",
       "</table>\n",
       "<p>18249 rows × 6 columns</p>\n",
       "</div>"
      ],
      "text/plain": [
       "          month  year     day  AveragePrice            region          type\n",
       "0      December  2015  Sunday          1.33            Albany  conventional\n",
       "1      December  2015  Sunday          1.35            Albany  conventional\n",
       "2      December  2015  Sunday          0.93            Albany  conventional\n",
       "3      December  2015  Sunday          1.08            Albany  conventional\n",
       "4      November  2015  Sunday          1.28            Albany  conventional\n",
       "...         ...   ...     ...           ...               ...           ...\n",
       "18244  February  2018  Sunday          1.63  WestTexNewMexico       organic\n",
       "18245   January  2018  Sunday          1.71  WestTexNewMexico       organic\n",
       "18246   January  2018  Sunday          1.87  WestTexNewMexico       organic\n",
       "18247   January  2018  Sunday          1.93  WestTexNewMexico       organic\n",
       "18248   January  2018  Sunday          1.62  WestTexNewMexico       organic\n",
       "\n",
       "[18249 rows x 6 columns]"
      ]
     },
     "execution_count": 48,
     "metadata": {},
     "output_type": "execute_result"
    }
   ],
   "source": [
    "# From dates we can get mothly ,daily,yearly average counts of AveragePrice,type,region which can help in data analysis\n",
    "df_dates=pd.DataFrame()\n",
    "df_dates['month']=df['Date'].dt.month_name()\n",
    "df_dates['year']=df['Date'].dt.year\n",
    "df_dates['day']=df['Date'].dt.day_name()\n",
    "df_dates['AveragePrice']=df['AveragePrice']\n",
    "df_dates['region']=df['region']\n",
    "df_dates['type']=df['type']\n",
    "df_dates"
   ]
  },
  {
   "cell_type": "code",
   "execution_count": 49,
   "metadata": {},
   "outputs": [
    {
     "data": {
      "image/png": "[encoded data removed]",
      "text/plain": [
       "<Figure size 864x432 with 1 Axes>"
      ]
     },
     "metadata": {
      "needs_background": "light"
     },
     "output_type": "display_data"
    }
   ],
   "source": [
    "# averageprice during month of an year\n",
    "plt.figure(figsize=(12,6))\n",
    "sns.barplot(x='month',y='AveragePrice',data=df_dates)\n",
    "plt.show()\n"
   ]
  },
  {
   "cell_type": "markdown",
   "metadata": {},
   "source": [
    "Observation:\n",
    "\n",
    "1. average price is max at october and september\n",
    "2. min at feb"
   ]
  },
  {
   "cell_type": "code",
   "execution_count": 50,
   "metadata": {},
   "outputs": [
    {
     "data": {
      "image/png": "[encoded data removed]",
      "text/plain": [
       "<Figure size 432x288 with 1 Axes>"
      ]
     },
     "metadata": {
      "needs_background": "light"
     },
     "output_type": "display_data"
    }
   ],
   "source": [
    "# average confirmed during day of week \n",
    "sns.barplot(x='day',y='AveragePrice',data=df_dates)\n",
    "plt.show()"
   ]
  },
  {
   "cell_type": "markdown",
   "metadata": {},
   "source": [
    "data data is only for sunday"
   ]
  },
  {
   "cell_type": "code",
   "execution_count": 51,
   "metadata": {},
   "outputs": [
    {
     "data": {
      "image/png": "[encoded data removed]",
      "text/plain": [
       "<Figure size 432x288 with 1 Axes>"
      ]
     },
     "metadata": {
      "needs_background": "light"
     },
     "output_type": "display_data"
    }
   ],
   "source": [
    "# averageprice during  of an year \n",
    "sns.barplot(x='year',y='AveragePrice',data=df_dates)\n",
    "plt.show()"
   ]
  },
  {
   "cell_type": "markdown",
   "metadata": {},
   "source": [
    "Observation: AveragePrice in 2017 more, than 2015, 2016, 2018"
   ]
  },
  {
   "cell_type": "code",
   "execution_count": 52,
   "metadata": {},
   "outputs": [
    {
     "data": {
      "image/png": "[encoded data removed]",
      "text/plain": [
       "<Figure size 1440x360 with 1 Axes>"
      ]
     },
     "metadata": {
      "needs_background": "light"
     },
     "output_type": "display_data"
    }
   ],
   "source": [
    "sns.catplot(x='region',y='AveragePrice',data=df_dates,kind='bar',aspect=4)\n",
    "plt.xticks(rotation=60)\n",
    "plt.xlabel('Region')\n",
    "plt.ylabel('Average Price')\n",
    "plt.title('Average Price of Avocado According to Region')\n",
    "plt.show()"
   ]
  },
  {
   "cell_type": "markdown",
   "metadata": {},
   "source": [
    "Observation:\n",
    "\n",
    "1. Region affect the average price of avocado."
   ]
  },
  {
   "cell_type": "code",
   "execution_count": 53,
   "metadata": {},
   "outputs": [
    {
     "data": {
      "text/html": [
       "<div>\n",
       "<style scoped>\n",
       "    .dataframe tbody tr th:only-of-type {\n",
       "        vertical-align: middle;\n",
       "    }\n",
       "\n",
       "    .dataframe tbody tr th {\n",
       "        vertical-align: top;\n",
       "    }\n",
       "\n",
       "    .dataframe thead th {\n",
       "        text-align: right;\n",
       "    }\n",
       "</style>\n",
       "<table border=\"1\" class=\"dataframe\">\n",
       "  <thead>\n",
       "    <tr style=\"text-align: right;\">\n",
       "      <th></th>\n",
       "      <th>AveragePrice</th>\n",
       "      <th>Total Volume</th>\n",
       "      <th>4046</th>\n",
       "      <th>4225</th>\n",
       "      <th>4770</th>\n",
       "      <th>Total Bags</th>\n",
       "      <th>Small Bags</th>\n",
       "      <th>Large Bags</th>\n",
       "      <th>XLarge Bags</th>\n",
       "      <th>type</th>\n",
       "      <th>year</th>\n",
       "      <th>region</th>\n",
       "    </tr>\n",
       "  </thead>\n",
       "  <tbody>\n",
       "    <tr>\n",
       "      <th>0</th>\n",
       "      <td>1.33</td>\n",
       "      <td>64236.62</td>\n",
       "      <td>1036.74</td>\n",
       "      <td>54454.85</td>\n",
       "      <td>48.16</td>\n",
       "      <td>8696.87</td>\n",
       "      <td>8603.62</td>\n",
       "      <td>93.25</td>\n",
       "      <td>0.0</td>\n",
       "      <td>conventional</td>\n",
       "      <td>2015</td>\n",
       "      <td>Albany</td>\n",
       "    </tr>\n",
       "    <tr>\n",
       "      <th>1</th>\n",
       "      <td>1.35</td>\n",
       "      <td>54876.98</td>\n",
       "      <td>674.28</td>\n",
       "      <td>44638.81</td>\n",
       "      <td>58.33</td>\n",
       "      <td>9505.56</td>\n",
       "      <td>9408.07</td>\n",
       "      <td>97.49</td>\n",
       "      <td>0.0</td>\n",
       "      <td>conventional</td>\n",
       "      <td>2015</td>\n",
       "      <td>Albany</td>\n",
       "    </tr>\n",
       "    <tr>\n",
       "      <th>2</th>\n",
       "      <td>0.93</td>\n",
       "      <td>118220.22</td>\n",
       "      <td>794.70</td>\n",
       "      <td>109149.67</td>\n",
       "      <td>130.50</td>\n",
       "      <td>8145.35</td>\n",
       "      <td>8042.21</td>\n",
       "      <td>103.14</td>\n",
       "      <td>0.0</td>\n",
       "      <td>conventional</td>\n",
       "      <td>2015</td>\n",
       "      <td>Albany</td>\n",
       "    </tr>\n",
       "    <tr>\n",
       "      <th>3</th>\n",
       "      <td>1.08</td>\n",
       "      <td>78992.15</td>\n",
       "      <td>1132.00</td>\n",
       "      <td>71976.41</td>\n",
       "      <td>72.58</td>\n",
       "      <td>5811.16</td>\n",
       "      <td>5677.40</td>\n",
       "      <td>133.76</td>\n",
       "      <td>0.0</td>\n",
       "      <td>conventional</td>\n",
       "      <td>2015</td>\n",
       "      <td>Albany</td>\n",
       "    </tr>\n",
       "    <tr>\n",
       "      <th>4</th>\n",
       "      <td>1.28</td>\n",
       "      <td>51039.60</td>\n",
       "      <td>941.48</td>\n",
       "      <td>43838.39</td>\n",
       "      <td>75.78</td>\n",
       "      <td>6183.95</td>\n",
       "      <td>5986.26</td>\n",
       "      <td>197.69</td>\n",
       "      <td>0.0</td>\n",
       "      <td>conventional</td>\n",
       "      <td>2015</td>\n",
       "      <td>Albany</td>\n",
       "    </tr>\n",
       "    <tr>\n",
       "      <th>...</th>\n",
       "      <td>...</td>\n",
       "      <td>...</td>\n",
       "      <td>...</td>\n",
       "      <td>...</td>\n",
       "      <td>...</td>\n",
       "      <td>...</td>\n",
       "      <td>...</td>\n",
       "      <td>...</td>\n",
       "      <td>...</td>\n",
       "      <td>...</td>\n",
       "      <td>...</td>\n",
       "      <td>...</td>\n",
       "    </tr>\n",
       "    <tr>\n",
       "      <th>18244</th>\n",
       "      <td>1.63</td>\n",
       "      <td>17074.83</td>\n",
       "      <td>2046.96</td>\n",
       "      <td>1529.20</td>\n",
       "      <td>0.00</td>\n",
       "      <td>13498.67</td>\n",
       "      <td>13066.82</td>\n",
       "      <td>431.85</td>\n",
       "      <td>0.0</td>\n",
       "      <td>organic</td>\n",
       "      <td>2018</td>\n",
       "      <td>WestTexNewMexico</td>\n",
       "    </tr>\n",
       "    <tr>\n",
       "      <th>18245</th>\n",
       "      <td>1.71</td>\n",
       "      <td>13888.04</td>\n",
       "      <td>1191.70</td>\n",
       "      <td>3431.50</td>\n",
       "      <td>0.00</td>\n",
       "      <td>9264.84</td>\n",
       "      <td>8940.04</td>\n",
       "      <td>324.80</td>\n",
       "      <td>0.0</td>\n",
       "      <td>organic</td>\n",
       "      <td>2018</td>\n",
       "      <td>WestTexNewMexico</td>\n",
       "    </tr>\n",
       "    <tr>\n",
       "      <th>18246</th>\n",
       "      <td>1.87</td>\n",
       "      <td>13766.76</td>\n",
       "      <td>1191.92</td>\n",
       "      <td>2452.79</td>\n",
       "      <td>727.94</td>\n",
       "      <td>9394.11</td>\n",
       "      <td>9351.80</td>\n",
       "      <td>42.31</td>\n",
       "      <td>0.0</td>\n",
       "      <td>organic</td>\n",
       "      <td>2018</td>\n",
       "      <td>WestTexNewMexico</td>\n",
       "    </tr>\n",
       "    <tr>\n",
       "      <th>18247</th>\n",
       "      <td>1.93</td>\n",
       "      <td>16205.22</td>\n",
       "      <td>1527.63</td>\n",
       "      <td>2981.04</td>\n",
       "      <td>727.01</td>\n",
       "      <td>10969.54</td>\n",
       "      <td>10919.54</td>\n",
       "      <td>50.00</td>\n",
       "      <td>0.0</td>\n",
       "      <td>organic</td>\n",
       "      <td>2018</td>\n",
       "      <td>WestTexNewMexico</td>\n",
       "    </tr>\n",
       "    <tr>\n",
       "      <th>18248</th>\n",
       "      <td>1.62</td>\n",
       "      <td>17489.58</td>\n",
       "      <td>2894.77</td>\n",
       "      <td>2356.13</td>\n",
       "      <td>224.53</td>\n",
       "      <td>12014.15</td>\n",
       "      <td>11988.14</td>\n",
       "      <td>26.01</td>\n",
       "      <td>0.0</td>\n",
       "      <td>organic</td>\n",
       "      <td>2018</td>\n",
       "      <td>WestTexNewMexico</td>\n",
       "    </tr>\n",
       "  </tbody>\n",
       "</table>\n",
       "<p>18249 rows × 12 columns</p>\n",
       "</div>"
      ],
      "text/plain": [
       "       AveragePrice  Total Volume     4046       4225    4770  Total Bags  \\\n",
       "0              1.33      64236.62  1036.74   54454.85   48.16     8696.87   \n",
       "1              1.35      54876.98   674.28   44638.81   58.33     9505.56   \n",
       "2              0.93     118220.22   794.70  109149.67  130.50     8145.35   \n",
       "3              1.08      78992.15  1132.00   71976.41   72.58     5811.16   \n",
       "4              1.28      51039.60   941.48   43838.39   75.78     6183.95   \n",
       "...             ...           ...      ...        ...     ...         ...   \n",
       "18244          1.63      17074.83  2046.96    1529.20    0.00    13498.67   \n",
       "18245          1.71      13888.04  1191.70    3431.50    0.00     9264.84   \n",
       "18246          1.87      13766.76  1191.92    2452.79  727.94     9394.11   \n",
       "18247          1.93      16205.22  1527.63    2981.04  727.01    10969.54   \n",
       "18248          1.62      17489.58  2894.77    2356.13  224.53    12014.15   \n",
       "\n",
       "       Small Bags  Large Bags  XLarge Bags          type  year  \\\n",
       "0         8603.62       93.25          0.0  conventional  2015   \n",
       "1         9408.07       97.49          0.0  conventional  2015   \n",
       "2         8042.21      103.14          0.0  conventional  2015   \n",
       "3         5677.40      133.76          0.0  conventional  2015   \n",
       "4         5986.26      197.69          0.0  conventional  2015   \n",
       "...           ...         ...          ...           ...   ...   \n",
       "18244    13066.82      431.85          0.0       organic  2018   \n",
       "18245     8940.04      324.80          0.0       organic  2018   \n",
       "18246     9351.80       42.31          0.0       organic  2018   \n",
       "18247    10919.54       50.00          0.0       organic  2018   \n",
       "18248    11988.14       26.01          0.0       organic  2018   \n",
       "\n",
       "                 region  \n",
       "0                Albany  \n",
       "1                Albany  \n",
       "2                Albany  \n",
       "3                Albany  \n",
       "4                Albany  \n",
       "...                 ...  \n",
       "18244  WestTexNewMexico  \n",
       "18245  WestTexNewMexico  \n",
       "18246  WestTexNewMexico  \n",
       "18247  WestTexNewMexico  \n",
       "18248  WestTexNewMexico  \n",
       "\n",
       "[18249 rows x 12 columns]"
      ]
     },
     "execution_count": 53,
     "metadata": {},
     "output_type": "execute_result"
    }
   ],
   "source": [
    "#drop date columns \n",
    "df.drop(columns=['Date','Unnamed: 0'],inplace=True)\n",
    "df\n",
    "#month and date not affect the price so if drop the date column than no any information loss"
   ]
  },
  {
   "cell_type": "code",
   "execution_count": 54,
   "metadata": {},
   "outputs": [
    {
     "data": {
      "image/png": "[encoded data removed]",
      "text/plain": [
       "<Figure size 648x360 with 1 Axes>"
      ]
     },
     "metadata": {
      "needs_background": "light"
     },
     "output_type": "display_data"
    }
   ],
   "source": [
    "#Price is always important\n",
    "plt.figure(figsize=(9,5))\n",
    "plt.title(\"Distribution Price\")\n",
    "ax = sns.distplot(df[\"AveragePrice\"])"
   ]
  },
  {
   "cell_type": "code",
   "execution_count": 55,
   "metadata": {},
   "outputs": [
    {
     "data": {
      "image/png": "[encoded data removed]",
      "text/plain": [
       "<Figure size 864x432 with 1 Axes>"
      ]
     },
     "metadata": {
      "needs_background": "light"
     },
     "output_type": "display_data"
    }
   ],
   "source": [
    "Year = df[['Total Volume' ,'AveragePrice']].groupby(df.year).sum()\n",
    "Year.plot(kind='line', fontsize = 14,figsize=(12,6))\n",
    "plt.show()"
   ]
  },
  {
   "cell_type": "markdown",
   "metadata": {},
   "source": [
    "Obsrvation: Average price directly proportional upto 2017 then its inverslpropostional to total volume"
   ]
  },
  {
   "cell_type": "code",
   "execution_count": 56,
   "metadata": {},
   "outputs": [
    {
     "data": {
      "text/plain": [
       "<matplotlib.axes._subplots.AxesSubplot at 0x1595bc4cd88>"
      ]
     },
     "execution_count": 56,
     "metadata": {},
     "output_type": "execute_result"
    },
    {
     "data": {
      "image/png": "[encoded data removed]",
      "text/plain": [
       "<Figure size 432x288 with 1 Axes>"
      ]
     },
     "metadata": {
      "needs_background": "light"
     },
     "output_type": "display_data"
    }
   ],
   "source": [
    "#Year-wise Average Price\n",
    "sns.lineplot(x=\"year\", y=\"AveragePrice\", hue='type', data=df)"
   ]
  },
  {
   "cell_type": "code",
   "execution_count": 63,
   "metadata": {},
   "outputs": [
    {
     "data": {
      "text/plain": [
       "<matplotlib.axes._subplots.AxesSubplot at 0x1595907f748>"
      ]
     },
     "execution_count": 63,
     "metadata": {},
     "output_type": "execute_result"
    },
    {
     "data": {
      "image/png": "[encoded data removed]",
      "text/plain": [
       "<Figure size 432x288 with 1 Axes>"
      ]
     },
     "metadata": {
      "needs_background": "light"
     },
     "output_type": "display_data"
    }
   ],
   "source": [
    "#region-wise Average Price\n",
    "sns.lineplot(x=\"year\", y=\"region\", hue='type', data=df)"
   ]
  },
  {
   "cell_type": "markdown",
   "metadata": {},
   "source": [
    "EDA interpretation:\n",
    "    \n",
    "    1)there is no null values present in the dataset\n",
    "    2)Price is not same in the all month,\n",
    "    3)Region affect the average price of avocado.\n",
    "    4)Average price directly proportional upto 2017 then its inverslpropostional to total volume"
   ]
  },
  {
   "cell_type": "code",
   "execution_count": 57,
   "metadata": {},
   "outputs": [
    {
     "data": {
      "text/html": [
       "<div>\n",
       "<style scoped>\n",
       "    .dataframe tbody tr th:only-of-type {\n",
       "        vertical-align: middle;\n",
       "    }\n",
       "\n",
       "    .dataframe tbody tr th {\n",
       "        vertical-align: top;\n",
       "    }\n",
       "\n",
       "    .dataframe thead th {\n",
       "        text-align: right;\n",
       "    }\n",
       "</style>\n",
       "<table border=\"1\" class=\"dataframe\">\n",
       "  <thead>\n",
       "    <tr style=\"text-align: right;\">\n",
       "      <th></th>\n",
       "      <th>AveragePrice</th>\n",
       "      <th>Total Volume</th>\n",
       "      <th>4046</th>\n",
       "      <th>4225</th>\n",
       "      <th>4770</th>\n",
       "      <th>Total Bags</th>\n",
       "      <th>Small Bags</th>\n",
       "      <th>Large Bags</th>\n",
       "      <th>XLarge Bags</th>\n",
       "      <th>type</th>\n",
       "      <th>year</th>\n",
       "      <th>region</th>\n",
       "    </tr>\n",
       "  </thead>\n",
       "  <tbody>\n",
       "    <tr>\n",
       "      <th>0</th>\n",
       "      <td>86</td>\n",
       "      <td>7931</td>\n",
       "      <td>4383</td>\n",
       "      <td>10872</td>\n",
       "      <td>1400</td>\n",
       "      <td>5780</td>\n",
       "      <td>5782</td>\n",
       "      <td>1264</td>\n",
       "      <td>0</td>\n",
       "      <td>0</td>\n",
       "      <td>0</td>\n",
       "      <td>0</td>\n",
       "    </tr>\n",
       "    <tr>\n",
       "      <th>1</th>\n",
       "      <td>88</td>\n",
       "      <td>7645</td>\n",
       "      <td>3616</td>\n",
       "      <td>10213</td>\n",
       "      <td>1570</td>\n",
       "      <td>6013</td>\n",
       "      <td>5972</td>\n",
       "      <td>1288</td>\n",
       "      <td>0</td>\n",
       "      <td>0</td>\n",
       "      <td>0</td>\n",
       "      <td>0</td>\n",
       "    </tr>\n",
       "    <tr>\n",
       "      <th>2</th>\n",
       "      <td>46</td>\n",
       "      <td>9388</td>\n",
       "      <td>3891</td>\n",
       "      <td>12864</td>\n",
       "      <td>2516</td>\n",
       "      <td>5616</td>\n",
       "      <td>5625</td>\n",
       "      <td>1328</td>\n",
       "      <td>0</td>\n",
       "      <td>0</td>\n",
       "      <td>0</td>\n",
       "      <td>0</td>\n",
       "    </tr>\n",
       "    <tr>\n",
       "      <th>3</th>\n",
       "      <td>61</td>\n",
       "      <td>8374</td>\n",
       "      <td>4545</td>\n",
       "      <td>11751</td>\n",
       "      <td>1789</td>\n",
       "      <td>4727</td>\n",
       "      <td>4880</td>\n",
       "      <td>1513</td>\n",
       "      <td>0</td>\n",
       "      <td>0</td>\n",
       "      <td>0</td>\n",
       "      <td>0</td>\n",
       "    </tr>\n",
       "    <tr>\n",
       "      <th>4</th>\n",
       "      <td>81</td>\n",
       "      <td>7540</td>\n",
       "      <td>4201</td>\n",
       "      <td>10157</td>\n",
       "      <td>1836</td>\n",
       "      <td>4874</td>\n",
       "      <td>4985</td>\n",
       "      <td>1855</td>\n",
       "      <td>0</td>\n",
       "      <td>0</td>\n",
       "      <td>0</td>\n",
       "      <td>0</td>\n",
       "    </tr>\n",
       "  </tbody>\n",
       "</table>\n",
       "</div>"
      ],
      "text/plain": [
       "   AveragePrice  Total Volume  4046   4225  4770  Total Bags  Small Bags  \\\n",
       "0            86          7931  4383  10872  1400        5780        5782   \n",
       "1            88          7645  3616  10213  1570        6013        5972   \n",
       "2            46          9388  3891  12864  2516        5616        5625   \n",
       "3            61          8374  4545  11751  1789        4727        4880   \n",
       "4            81          7540  4201  10157  1836        4874        4985   \n",
       "\n",
       "   Large Bags  XLarge Bags  type  year  region  \n",
       "0        1264            0     0     0       0  \n",
       "1        1288            0     0     0       0  \n",
       "2        1328            0     0     0       0  \n",
       "3        1513            0     0     0       0  \n",
       "4        1855            0     0     0       0  "
      ]
     },
     "execution_count": 57,
     "metadata": {},
     "output_type": "execute_result"
    }
   ],
   "source": [
    "# the data is in categories so we converted using LabelEncoder\n",
    "c=df.columns\n",
    "from sklearn.preprocessing import LabelEncoder\n",
    "le=LabelEncoder()\n",
    "for i in c:\n",
    "    df[i]=le.fit_transform(df[i])\n",
    "    \n",
    "df.head()"
   ]
  },
  {
   "cell_type": "code",
   "execution_count": 58,
   "metadata": {},
   "outputs": [
    {
     "data": {
      "image/png": "[encoded data removed]",
      "text/plain": [
       "<Figure size 1440x3600 with 11 Axes>"
      ]
     },
     "metadata": {
      "needs_background": "light"
     },
     "output_type": "display_data"
    }
   ],
   "source": [
    "#cheking for outliers:\n",
    "\n",
    "\n",
    "collist=df.columns.values\n",
    "plt.figure(figsize=(20,50))\n",
    "for i in range(1,len(collist)):\n",
    "    plt.subplot(10,9,i+1)\n",
    "    sns.boxplot(df[collist[i]],orient='v')\n",
    "    plt.tight_layout"
   ]
  },
  {
   "cell_type": "markdown",
   "metadata": {},
   "source": [
    "#outliers are present in some variables"
   ]
  },
  {
   "cell_type": "code",
   "execution_count": 59,
   "metadata": {},
   "outputs": [
    {
     "name": "stdout",
     "output_type": "stream",
     "text": [
      "(18249, 12) (18118, 12)\n"
     ]
    }
   ],
   "source": [
    "#remove outliers\n",
    "from scipy.stats import zscore\n",
    "z=np.abs(zscore(df))\n",
    "df_new=df[(z<3).all(axis=1)]\n",
    "print(df.shape,df_new.shape)"
   ]
  },
  {
   "cell_type": "code",
   "execution_count": 64,
   "metadata": {},
   "outputs": [
    {
     "data": {
      "text/plain": [
       "AveragePrice    0.400323\n",
       "Total Volume   -0.009983\n",
       "4046            0.006429\n",
       "4225           -0.006789\n",
       "4770            0.500235\n",
       "Total Bags     -0.003095\n",
       "Small Bags      0.037888\n",
       "Large Bags      0.181088\n",
       "XLarge Bags     1.599287\n",
       "type            0.014794\n",
       "year            0.224198\n",
       "region          0.006878\n",
       "dtype: float64"
      ]
     },
     "execution_count": 64,
     "metadata": {},
     "output_type": "execute_result"
    }
   ],
   "source": [
    "df_new.skew()"
   ]
  },
  {
   "cell_type": "code",
   "execution_count": 65,
   "metadata": {},
   "outputs": [],
   "source": [
    "#Lets treat the skewness\n",
    "import numpy as np\n",
    "df_new.skew()\n",
    "for col in df_new.skew().index:\n",
    "    if col in df_new.describe().columns:\n",
    "        if df_new.skew().loc[col]>0.5:\n",
    "            df_new[col]=np.sqrt(df[col])\n",
    "        if df_new.skew().loc[col]<-0.5:\n",
    "            df[col]=np.cbrt(df[col])"
   ]
  },
  {
   "cell_type": "code",
   "execution_count": 66,
   "metadata": {},
   "outputs": [
    {
     "data": {
      "text/plain": [
       "AveragePrice    0.400323\n",
       "Total Volume   -0.009983\n",
       "4046            0.006429\n",
       "4225           -0.006789\n",
       "4770           -0.493208\n",
       "Total Bags     -0.003095\n",
       "Small Bags      0.037888\n",
       "Large Bags      0.181088\n",
       "XLarge Bags     0.851644\n",
       "type            0.014794\n",
       "year            0.224198\n",
       "region          0.006878\n",
       "dtype: float64"
      ]
     },
     "execution_count": 66,
     "metadata": {},
     "output_type": "execute_result"
    }
   ],
   "source": [
    "#Again check skewness\n",
    "df_new.skew()"
   ]
  },
  {
   "cell_type": "code",
   "execution_count": 70,
   "metadata": {},
   "outputs": [
    {
     "data": {
      "text/plain": [
       "(18118, 11)"
      ]
     },
     "execution_count": 70,
     "metadata": {},
     "output_type": "execute_result"
    }
   ],
   "source": [
    "# seprating into input and output variable\n",
    "x=df_new.drop(['AveragePrice'],axis=1)\n",
    "x.shape"
   ]
  },
  {
   "cell_type": "code",
   "execution_count": 71,
   "metadata": {},
   "outputs": [
    {
     "data": {
      "text/plain": [
       "(18118,)"
      ]
     },
     "execution_count": 71,
     "metadata": {},
     "output_type": "execute_result"
    }
   ],
   "source": [
    "y=df_new['AveragePrice']\n",
    "y.shape"
   ]
  },
  {
   "cell_type": "code",
   "execution_count": 72,
   "metadata": {},
   "outputs": [
    {
     "data": {
      "text/plain": [
       "(18118, 11)"
      ]
     },
     "execution_count": 72,
     "metadata": {},
     "output_type": "execute_result"
    }
   ],
   "source": [
    "# Scaling the input variable\n",
    "from sklearn.preprocessing import StandardScaler\n",
    "sc=StandardScaler()\n",
    "x=sc.fit_transform(x)\n",
    "x.shape"
   ]
  },
  {
   "cell_type": "code",
   "execution_count": 78,
   "metadata": {},
   "outputs": [],
   "source": [
    "# Model Training and Validation\n",
    "from sklearn.model_selection import train_test_split, GridSearchCV, cross_val_score\n",
    "from sklearn.metrics import mean_squared_error, r2_score\n",
    "\n",
    "# ML Algorithms\n",
    "from sklearn.linear_model import LinearRegression, Lasso, Ridge, ElasticNet\n",
    "from sklearn.svm import SVR\n",
    "from sklearn.neighbors import KNeighborsRegressor\n",
    "from sklearn.tree import DecisionTreeRegressor\n",
    "from sklearn.ensemble import RandomForestRegressor\n",
    "\n",
    "from sklearn.model_selection import GridSearchCV\n"
   ]
  },
  {
   "cell_type": "code",
   "execution_count": 74,
   "metadata": {},
   "outputs": [
    {
     "name": "stdout",
     "output_type": "stream",
     "text": [
      "xtrain shape---> (14132, 11)\n",
      "ytrain shape---> (14132,)\n",
      "xtest shape---> (3986, 11)\n",
      "ytest shape---> (3986,)\n"
     ]
    }
   ],
   "source": [
    "from sklearn.model_selection import train_test_split\n",
    "x_train,x_test,y_train,y_test=train_test_split(x,y,test_size=.22,random_state=42)\n",
    "print('xtrain shape--->',x_train.shape)\n",
    "print('ytrain shape--->',y_train.shape)\n",
    "print('xtest shape--->',x_test.shape)\n",
    "print('ytest shape--->',y_test.shape)"
   ]
  },
  {
   "cell_type": "code",
   "execution_count": 75,
   "metadata": {},
   "outputs": [],
   "source": [
    "#Creating function for Model Training\n",
    "from sklearn.metrics import mean_squared_error, r2_score\n",
    "def models(model, x_train, x_test, y_train, y_test,score,rmse):\n",
    "    #Fit the algorithm on the data\n",
    "    model.fit(x_train, y_train)\n",
    "    \n",
    "    #Predict training set:\n",
    "    y_pred = model.predict(x_test)\n",
    "    \n",
    "    score.append(model.score(x_train,y_train))\n",
    "    rmse.append(np.sqrt(mean_squared_error(y_test, y_pred)))\n",
    "    \n",
    "    print('Score:',model.score(x_train,y_train))\n",
    "    print('RMSE:',np.sqrt(mean_squared_error(y_test, y_pred)))\n",
    "    print('R2 Score:',r2_score(y_test, y_pred))"
   ]
  },
  {
   "cell_type": "code",
   "execution_count": 76,
   "metadata": {},
   "outputs": [],
   "source": [
    "model_name,score,rmse=[],[],[]"
   ]
  },
  {
   "cell_type": "code",
   "execution_count": 77,
   "metadata": {},
   "outputs": [
    {
     "name": "stdout",
     "output_type": "stream",
     "text": [
      "Model Report for Linear Regression\n",
      "Score: 0.5308138477135174\n",
      "RMSE: 25.995879629816326\n",
      "R2 Score: 0.5328490477548327\n"
     ]
    }
   ],
   "source": [
    "#Linear Regression\n",
    "from sklearn.linear_model import LinearRegression\n",
    "lreg=LinearRegression()\n",
    "mod='Linear Regression'\n",
    "print('Model Report for', mod)\n",
    "models(lreg,x_train,x_test,y_train,y_test,score,rmse)\n",
    "model_name.append(mod)"
   ]
  },
  {
   "cell_type": "code",
   "execution_count": 79,
   "metadata": {},
   "outputs": [
    {
     "data": {
      "text/plain": [
       "{'alpha': 0.01}"
      ]
     },
     "execution_count": 79,
     "metadata": {},
     "output_type": "execute_result"
    }
   ],
   "source": [
    "#Ridge Regression\n",
    "from sklearn.linear_model import Ridge\n",
    "parameters={'alpha':[0.01,1,100]}\n",
    "best=GridSearchCV(Ridge(),parameters)\n",
    "best.fit(x_train,y_train)\n",
    "best.best_params_"
   ]
  },
  {
   "cell_type": "code",
   "execution_count": 80,
   "metadata": {},
   "outputs": [
    {
     "name": "stdout",
     "output_type": "stream",
     "text": [
      "Model Report for Ridge Regression\n",
      "Score: 0.5308138476616224\n",
      "RMSE: 25.99588101735981\n",
      "R2 Score: 0.5328489978859853\n"
     ]
    }
   ],
   "source": [
    "rr=Ridge(alpha=0.01)\n",
    "mod='Ridge Regression'\n",
    "print('Model Report for', mod)\n",
    "models(rr,x_train,x_test,y_train,y_test,score,rmse)\n",
    "model_name.append(mod)"
   ]
  },
  {
   "cell_type": "code",
   "execution_count": 81,
   "metadata": {},
   "outputs": [
    {
     "data": {
      "text/plain": [
       "{'alpha': 0.001}"
      ]
     },
     "execution_count": 81,
     "metadata": {},
     "output_type": "execute_result"
    }
   ],
   "source": [
    "#Lasso Regression\n",
    "from sklearn.linear_model import Lasso\n",
    "parameters={'alpha':[0.001,0.01,1]}\n",
    "best=GridSearchCV(Lasso(),parameters)\n",
    "best.fit(x_train,y_train)\n",
    "best.best_params_"
   ]
  },
  {
   "cell_type": "code",
   "execution_count": 82,
   "metadata": {},
   "outputs": [
    {
     "name": "stdout",
     "output_type": "stream",
     "text": [
      "Model Report for Lasso Regression\n",
      "Score: 0.5308137193261814\n",
      "RMSE: 25.996023477671322\n",
      "R2 Score: 0.5328438777933375\n"
     ]
    }
   ],
   "source": [
    "lr=Lasso(alpha=0.001)\n",
    "mod='Lasso Regression'\n",
    "print('Model Report for', mod)\n",
    "models(lr,x_train,x_test,y_train,y_test,score,rmse)\n",
    "model_name.append(mod)"
   ]
  },
  {
   "cell_type": "code",
   "execution_count": 83,
   "metadata": {},
   "outputs": [
    {
     "name": "stdout",
     "output_type": "stream",
     "text": [
      "Model Report for Elastic Net\n",
      "Score: 0.5290241686363351\n",
      "RMSE: 26.05870215847864\n",
      "R2 Score: 0.5305884537133483\n"
     ]
    }
   ],
   "source": [
    "from sklearn.linear_model import ElasticNet\n",
    "enr=ElasticNet(alpha=0.01)\n",
    "mod='Elastic Net'\n",
    "print('Model Report for', mod)\n",
    "models(enr,x_train, x_test, y_train, y_test,score,rmse)\n",
    "model_name.append(mod)"
   ]
  },
  {
   "cell_type": "code",
   "execution_count": 84,
   "metadata": {},
   "outputs": [
    {
     "data": {
      "text/plain": [
       "{'kernel': 'rbf'}"
      ]
     },
     "execution_count": 84,
     "metadata": {},
     "output_type": "execute_result"
    }
   ],
   "source": [
    "#Support Vector Regression\n",
    "from sklearn.svm import SVR\n",
    "parameters={'kernel':['linear','poly','rbf']}\n",
    "best=GridSearchCV(SVR(),parameters)\n",
    "best.fit(x_train,y_train)\n",
    "best.best_params_"
   ]
  },
  {
   "cell_type": "code",
   "execution_count": 85,
   "metadata": {},
   "outputs": [
    {
     "name": "stdout",
     "output_type": "stream",
     "text": [
      "Model Report for Support Vector Regression\n",
      "Score: 0.5960121059319341\n",
      "RMSE: 24.273850833267765\n",
      "R2 Score: 0.5926895417430826\n"
     ]
    }
   ],
   "source": [
    "svr=SVR(kernel='rbf')\n",
    "mod='Support Vector Regression'\n",
    "print('Model Report for', mod)\n",
    "models(svr,x_train, x_test, y_train, y_test,score,rmse)\n",
    "model_name.append(mod)"
   ]
  },
  {
   "cell_type": "code",
   "execution_count": 86,
   "metadata": {},
   "outputs": [
    {
     "data": {
      "text/plain": [
       "{'max_depth': 12, 'min_samples_leaf': 100}"
      ]
     },
     "execution_count": 86,
     "metadata": {},
     "output_type": "execute_result"
    }
   ],
   "source": [
    "#Decision Tree Regressor\n",
    "from sklearn.tree import DecisionTreeRegressor\n",
    "parameters={'max_depth':[8,10,12,15],'min_samples_leaf':[100,150]}\n",
    "best=GridSearchCV(DecisionTreeRegressor(),parameters)\n",
    "best.fit(x_train,y_train)\n",
    "best.best_params_"
   ]
  },
  {
   "cell_type": "code",
   "execution_count": 87,
   "metadata": {},
   "outputs": [
    {
     "name": "stdout",
     "output_type": "stream",
     "text": [
      "Model Report for Decision Tree Regression\n",
      "Score: 0.6689558824452474\n",
      "RMSE: 23.09144592192617\n",
      "R2 Score: 0.6314041341513963\n"
     ]
    }
   ],
   "source": [
    "dct=DecisionTreeRegressor(max_depth=12,min_samples_leaf=100)\n",
    "mod='Decision Tree Regression'\n",
    "print('Model Report for', mod)\n",
    "models(dct,x_train, x_test, y_train, y_test,score,rmse)\n",
    "model_name.append(mod)"
   ]
  },
  {
   "cell_type": "code",
   "execution_count": 88,
   "metadata": {},
   "outputs": [
    {
     "data": {
      "text/plain": [
       "{'max_depth': 6, 'n_estimators': 400}"
      ]
     },
     "execution_count": 88,
     "metadata": {},
     "output_type": "execute_result"
    }
   ],
   "source": [
    "#Random Forest Regressor\n",
    "from sklearn.ensemble import RandomForestRegressor\n",
    "parameters={'n_estimators':[200,300,400],'max_depth':[5,6]}\n",
    "best=GridSearchCV(RandomForestRegressor(),parameters)\n",
    "best.fit(x_train,y_train)\n",
    "best.best_params_"
   ]
  },
  {
   "cell_type": "code",
   "execution_count": 89,
   "metadata": {},
   "outputs": [
    {
     "name": "stdout",
     "output_type": "stream",
     "text": [
      "Model Report for Random Forest Regression\n",
      "Score: 0.674022601826489\n",
      "RMSE: 22.611198832902286\n",
      "R2 Score: 0.646576533939551\n"
     ]
    }
   ],
   "source": [
    "rf=RandomForestRegressor(n_estimators=200,max_depth=6)\n",
    "mod='Random Forest Regression'\n",
    "print('Model Report for', mod)\n",
    "models(rf,x_train, x_test, y_train, y_test,score,rmse)\n",
    "model_name.append(mod)"
   ]
  },
  {
   "cell_type": "code",
   "execution_count": 90,
   "metadata": {},
   "outputs": [
    {
     "data": {
      "text/html": [
       "<div>\n",
       "<style scoped>\n",
       "    .dataframe tbody tr th:only-of-type {\n",
       "        vertical-align: middle;\n",
       "    }\n",
       "\n",
       "    .dataframe tbody tr th {\n",
       "        vertical-align: top;\n",
       "    }\n",
       "\n",
       "    .dataframe thead th {\n",
       "        text-align: right;\n",
       "    }\n",
       "</style>\n",
       "<table border=\"1\" class=\"dataframe\">\n",
       "  <thead>\n",
       "    <tr style=\"text-align: right;\">\n",
       "      <th></th>\n",
       "      <th>Model Name</th>\n",
       "      <th>Score</th>\n",
       "      <th>RMSE</th>\n",
       "    </tr>\n",
       "  </thead>\n",
       "  <tbody>\n",
       "    <tr>\n",
       "      <th>0</th>\n",
       "      <td>Linear Regression</td>\n",
       "      <td>0.530814</td>\n",
       "      <td>25.995880</td>\n",
       "    </tr>\n",
       "    <tr>\n",
       "      <th>1</th>\n",
       "      <td>Ridge Regression</td>\n",
       "      <td>0.530814</td>\n",
       "      <td>25.995881</td>\n",
       "    </tr>\n",
       "    <tr>\n",
       "      <th>2</th>\n",
       "      <td>Lasso Regression</td>\n",
       "      <td>0.530814</td>\n",
       "      <td>25.996023</td>\n",
       "    </tr>\n",
       "    <tr>\n",
       "      <th>3</th>\n",
       "      <td>Elastic Net</td>\n",
       "      <td>0.529024</td>\n",
       "      <td>26.058702</td>\n",
       "    </tr>\n",
       "    <tr>\n",
       "      <th>4</th>\n",
       "      <td>Support Vector Regression</td>\n",
       "      <td>0.596012</td>\n",
       "      <td>24.273851</td>\n",
       "    </tr>\n",
       "    <tr>\n",
       "      <th>5</th>\n",
       "      <td>Decision Tree Regression</td>\n",
       "      <td>0.668956</td>\n",
       "      <td>23.091446</td>\n",
       "    </tr>\n",
       "    <tr>\n",
       "      <th>6</th>\n",
       "      <td>Random Forest Regression</td>\n",
       "      <td>0.674023</td>\n",
       "      <td>22.611199</td>\n",
       "    </tr>\n",
       "  </tbody>\n",
       "</table>\n",
       "</div>"
      ],
      "text/plain": [
       "                  Model Name     Score       RMSE\n",
       "0          Linear Regression  0.530814  25.995880\n",
       "1           Ridge Regression  0.530814  25.995881\n",
       "2           Lasso Regression  0.530814  25.996023\n",
       "3                Elastic Net  0.529024  26.058702\n",
       "4  Support Vector Regression  0.596012  24.273851\n",
       "5   Decision Tree Regression  0.668956  23.091446\n",
       "6   Random Forest Regression  0.674023  22.611199"
      ]
     },
     "execution_count": 90,
     "metadata": {},
     "output_type": "execute_result"
    }
   ],
   "source": [
    "table=pd.DataFrame({'Model Name':model_name,'Score':score,'RMSE':rmse})\n",
    "table"
   ]
  },
  {
   "cell_type": "markdown",
   "metadata": {},
   "source": [
    "Conclusion:\n",
    "\n",
    "2. For AveragePrice Random Forest Regression give best score and poor performance by elastic net.\n",
    "3. Random Forest Regression gives 67% score."
   ]
  },
  {
   "cell_type": "code",
   "execution_count": 91,
   "metadata": {},
   "outputs": [
    {
     "data": {
      "text/plain": [
       "['RFR_Avocado_Dataset.pkl']"
      ]
     },
     "execution_count": 91,
     "metadata": {},
     "output_type": "execute_result"
    }
   ],
   "source": [
    "#Export best Model\n",
    "import joblib\n",
    "from joblib import dump\n",
    "joblib.dump(rf,'RFR_Avocado_Dataset.pkl')"
   ]
  },
  {
   "cell_type": "code",
   "execution_count": null,
   "metadata": {},
   "outputs": [],
   "source": []
  }
 ],
 "metadata": {
  "kernelspec": {
   "display_name": "Python 3",
   "language": "python",
   "name": "python3"
  },
  "language_info": {
   "codemirror_mode": {
    "name": "ipython",
    "version": 3
   },
   "file_extension": ".py",
   "mimetype": "text/x-python",
   "name": "python",
   "nbconvert_exporter": "python",
   "pygments_lexer": "ipython3",
   "version": "3.7.6"
  }
 },
 "nbformat": 4,
 "nbformat_minor": 4
}
